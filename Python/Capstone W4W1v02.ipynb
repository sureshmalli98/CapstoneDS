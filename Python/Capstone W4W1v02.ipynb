{
 "cells": [
  {
   "cell_type": "markdown",
   "metadata": {},
   "source": [
    "<center>\n",
    "    <img src=\"https://s3-api.us-geo.objectstorage.softlayer.net/cf-courses-data/CognitiveClass/Logos/organization_logo/organization_logo.png\" width=\"300\" alt=\"cognitiveclass.ai logo\"  />\n",
    "</center>\n"
   ]
  },
  {
   "cell_type": "markdown",
   "metadata": {},
   "source": [
    "#### Add your code below following the instructions given in the course\n"
   ]
  },
  {
   "cell_type": "markdown",
   "metadata": {},
   "source": [
    "Introduction/Business Problem:\n",
    "Small business owners come with several business ideas to start a new business or expand their business to newer areas. The business can be to start a printing store, a restaurant, a wine bar or a salon in and around Toronto. The challenge that is faced are in finding the right neighborhood where they have no or limited competition and has the potential to attract customers. \n",
    "This solution will find the best neighborhood where one can can start a business that will provide optimal suggestions on the following factors\n",
    "1. Minimal nearby stores of the type you are planning\n",
    "2. Has others stores around to ensure foot fall\n",
    "3. Confirm if the choice is in most populated, least populated Forward Sortation Area (FSA) to assist in your decision making"
   ]
  },
  {
   "cell_type": "markdown",
   "metadata": {},
   "source": [
    "Data section:\n",
    "The solution will rely on the data available from the following sources\n",
    "1. Wiki data on postal code, borough and neighborhood in Toronto city\n",
    "2. Foursquare data on venue/enquire \n",
    "3. Wiki data on FSAs by postal code\n",
    "\n",
    "For a preferred choice of business, the system will combine the data from all three sources and provide optimal neighborhoods where a new store can be opened. \n",
    "\n",
    "For example if an existing/new business owner wants to start a salon in Toronto and looking for a potential area, the system will accept the venue cateogry as 'salon' as input. The Foursquare data will be accessed on this category for all the postal codes and a temporary dataframe will be built along with FSAs. This will be used to provide optimal "
   ]
  }
 ],
 "metadata": {
  "kernelspec": {
   "display_name": "Python",
   "language": "python",
   "name": "conda-env-python-py"
  },
  "language_info": {
   "codemirror_mode": {
    "name": "ipython",
    "version": 3
   },
   "file_extension": ".py",
   "mimetype": "text/x-python",
   "name": "python",
   "nbconvert_exporter": "python",
   "pygments_lexer": "ipython3",
   "version": "3.6.13"
  }
 },
 "nbformat": 4,
 "nbformat_minor": 4
}
